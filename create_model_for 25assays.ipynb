{
 "cells": [
  {
   "cell_type": "markdown",
   "metadata": {},
   "source": [
    "# Import module"
   ]
  },
  {
   "cell_type": "code",
   "execution_count": 1,
   "metadata": {},
   "outputs": [
    {
     "name": "stderr",
     "output_type": "stream",
     "text": [
      "Using TensorFlow backend.\n"
     ]
    }
   ],
   "source": [
    "import numpy\n",
    "import pandas\n",
    "import tensorflow\n",
    "from keras.models import Sequential\n",
    "from keras.layers import Dense\n",
    "from keras.wrappers.scikit_learn import KerasClassifier\n",
    "from sklearn.model_selection import cross_val_score\n",
    "from sklearn.preprocessing import LabelEncoder\n",
    "from sklearn.model_selection import StratifiedKFold\n",
    "from sklearn.preprocessing import StandardScaler\n",
    "from sklearn.pipeline import Pipeline\n",
    "from sklearn.metrics import confusion_matrix\n",
    "from rdkit.Chem import AllChem\n",
    "from rdkit import DataStructs\n",
    "from rdkit.Chem import Draw\n",
    "from rdkit.Chem.Draw import SimilarityMaps\n",
    "from rdkit import Chem, DataStructs\n",
    "import seaborn as sns\n",
    "import matplotlib as mpl\n",
    "import matplotlib.pyplot as plt\n",
    "from sklearn.model_selection import cross_val_predict\n",
    "from sklearn.metrics import confusion_matrix\n",
    "from imblearn.over_sampling import SMOTE\n",
    "\n",
    "\n",
    "#setting the seed for reproducibility\n",
    "#seed = 10110\n",
    "seed = 12061204\n",
    "numpy.random.seed(seed)\n"
   ]
  },
  {
   "cell_type": "markdown",
   "metadata": {},
   "source": [
    "# Directory for 25 assays"
   ]
  },
  {
   "cell_type": "code",
   "execution_count": 2,
   "metadata": {},
   "outputs": [],
   "source": [
    "import os\n",
    "path_dir = './input'\n",
    "file_list = os.listdir(path_dir)\n",
    "i = 0"
   ]
  },
  {
   "cell_type": "markdown",
   "metadata": {},
   "source": [
    "# Define model Creating function"
   ]
  },
  {
   "cell_type": "code",
   "execution_count": 3,
   "metadata": {},
   "outputs": [],
   "source": [
    "def create_deep_learning_model():\n",
    "    model = Sequential()\n",
    "    model.add(Dense(2048, input_dim=2048, kernel_initializer='normal', activation='relu'))\n",
    "    model.add(Dense(1024, activation='relu'))\n",
    "    model.add(Dense(100, activation='relu'))\n",
    "    model.add(Dense(1, kernel_initializer='normal', activation='sigmoid'))\n",
    "    model.compile(loss='binary_crossentropy', optimizer='adam', metrics=['accuracy'])\n",
    "    return model    \n"
   ]
  },
  {
   "cell_type": "markdown",
   "metadata": {},
   "source": [
    "# Main function"
   ]
  },
  {
   "cell_type": "code",
   "execution_count": null,
   "metadata": {},
   "outputs": [],
   "source": [
    "def main(input_name):\n",
    "    dataframe = pandas.read_csv(path_dir +'/'+input_name, sep=\"\\t\")\n",
    "    dataframe2 = pandas.read_csv('result_tmp.csv')\n",
    "\n",
    "    mols = []\n",
    "    fps = []\n",
    "    i = 0 # number of chemicals\n",
    "    j = 0 # number of ligand chemicals\n",
    "    \n",
    "    for index, row in dataframe.iterrows():\n",
    "        mol = Chem.MolFromSmiles(row['Smiles'])\n",
    "        fp = AllChem.GetMorganFingerprintAsBitVect(mol, 2)\n",
    "        mols.append(mol)\n",
    "        fps.append(fp)\n",
    "        i += 1\n",
    "        if(row[\"Type\"]==1) : \n",
    "            j += 1\n",
    "    \n",
    "    np_fps = []\n",
    "    for fp in fps:\n",
    "        arr = numpy.zeros((1,))\n",
    "        DataStructs.ConvertToNumpyArray(fp, arr)\n",
    "        np_fps.append(arr)\n",
    "        \n",
    "    np_fps_array = numpy.array(np_fps)\n",
    "    \n",
    "    #Need to encode my classes\n",
    "    #Ligand = 0, not_ligand = 1\n",
    "    encoder = LabelEncoder()\n",
    "    encoder.fit(dataframe['Type'])\n",
    "    enc_y = encoder.transform(dataframe['Type'])\n",
    "    \n",
    "    sm = SMOTE(random_state=12, ratio = 'minority')\n",
    "    x_train_res, y_train_res = sm.fit_sample(np_fps_array, enc_y) #결과데이터\n",
    "\n",
    "    # evaluate model with standardized dataset\n",
    "    estimator = KerasClassifier(build_fn=create_deep_learning_model, nb_epoch=100, batch_size=5)\n",
    "    kfold = StratifiedKFold(n_splits=5, shuffle=True, random_state=seed)\n",
    "    results = cross_val_score(estimator, x_train_res, y_train_res, cv=kfold)\n",
    "    va = results.mean()*100\n",
    "    print(\"Results: %.2f%% (%.2f%%)\" % (va, results.std()*100))\n",
    "\n",
    "    y_pred = cross_val_predict(estimator, x_train_res, y_train_res, cv=kfold)\n",
    "    conf_mat = confusion_matrix(y_train_res, y_pred)\n",
    "    conf_mat\n",
    "\n",
    "    model = create_deep_learning_model()\n",
    "    model.fit(x_train_res, y_train_res, epochs=5, batch_size=5)\n",
    "    model.save(\"./models/\"+input_name+'_model'+'.h5')\n",
    "\n",
    "    \n",
    "    #model informration\n",
    "    Total_Chemicals = i\n",
    "    Ligand = j\n",
    "    Non_ligand = i - j\n",
    "    Model_accuacy = va\n",
    "    tpr = conf_mat[0][0]/ (conf_mat[0][0] + conf_mat[0][1])\n",
    "    fpr = conf_mat[1][0]/ (conf_mat[1][0] + conf_mat[1][1])\n",
    "    info_list = [Total_Chemicals, Ligand, Non_ligand, Model_accuacy, tpr, fpr]\n",
    "    dataframe2[input_name.replace(\"(input).csv\",\"\")] = info_list\n",
    "    dataframe2.to_csv(\"./result.csv\", mode='w')"
   ]
  },
  {
   "cell_type": "markdown",
   "metadata": {},
   "source": [
    "# Create model for 25assays"
   ]
  },
  {
   "cell_type": "code",
   "execution_count": null,
   "metadata": {},
   "outputs": [],
   "source": [
    "if __name__ == \"__main__\":\n",
    "    for input_name in file_list :\n",
    "        main(input_name)"
   ]
  }
 ],
 "metadata": {
  "kernelspec": {
   "display_name": "Python 3",
   "language": "python",
   "name": "python3"
  },
  "language_info": {
   "codemirror_mode": {
    "name": "ipython",
    "version": 3
   },
   "file_extension": ".py",
   "mimetype": "text/x-python",
   "name": "python",
   "nbconvert_exporter": "python",
   "pygments_lexer": "ipython3",
   "version": "3.6.7"
  }
 },
 "nbformat": 4,
 "nbformat_minor": 2
}
